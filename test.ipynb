{
 "cells": [
  {
   "cell_type": "code",
   "execution_count": 6,
   "metadata": {},
   "outputs": [
    {
     "name": "stdout",
     "output_type": "stream",
     "text": [
      "Project root folder: d:\\OneDrive\\7Temporary\\Coding\\2024_02_20_Garmin\n"
     ]
    }
   ],
   "source": [
    "from datetime import datetime, timedelta\n",
    "import importlib\n",
    "import os\n",
    "import sqlite3\n",
    "import sys\n",
    "import time\n",
    "\n",
    "import bokeh\n",
    "from matplotlib import pyplot as plt\n",
    "import numpy as np\n",
    "import pandas as pd\n",
    "import plotly.express as px\n",
    "import seaborn as sns\n",
    "import streamlit as st\n",
    "# from ydata_profiling import ProfileReport\n",
    "\n",
    "from utils.helper_load_df import load_df, print_column_info_of_all_tables, get_column_info_of_specific_table, generate_report\n",
    "\n",
    "# Append project path to system path\n",
    "print(f\"Project root folder: {os.getcwd()}\")\n",
    "sys.path.append(os.getcwd())  \n",
    "\n",
    "def split_string(input_string: str) -> list[str]:\n",
    "    \"\"\"\n",
    "    Splits a string by commas and returns a list of strings.\n",
    "\n",
    "    Example use:\n",
    "    print_shapes(*split_string('s_train, , x_train, y_train'))\n",
    "\n",
    "\n",
    "    Args:\n",
    "        input_string (str): The input string to be split.\n",
    "\n",
    "    Returns:\n",
    "        list[str]: A list of strings obtained by splitting the input string by commas.\n",
    "    \"\"\"\n",
    "    split_list = input_string.split(\",\")\n",
    "    return split_list\n",
    "\n",
    "\n",
    "def pattr (object):\n",
    "    \"\"\"Prints all user-defined attribute names and values of an object\n",
    "\n",
    "    Args:\n",
    "        object (_type_): object/variable of interest\n",
    "    \"\"\"\n",
    "    attributes = [attr for attr in dir(object) if not attr.startswith('__')]\n",
    "\n",
    "    # print all attribute names and values\n",
    "    for attr in attributes:\n",
    "        attr_value = getattr(object, attr)\n",
    "        # Ignore callable methods. Allows other things like int, string etc.\n",
    "        if not callable(attr_value):\n",
    "            print(f'{attr:<30} type = {str(type(attr_value)): <20}  value = {str(attr_value)}  ' )\n",
    "\n",
    "def pmethods (object):\n",
    "    \"\"\"Prints all user-defined method names and values of an object\n",
    "\n",
    "    Args:\n",
    "        object (_type_): object/variable of interest\n",
    "    \"\"\"\n",
    "    attributes = [attr for attr in dir(object) if not attr.startswith('__')]\n",
    "\n",
    "    # print all attribute names and values\n",
    "    for attr in attributes:\n",
    "        attr_value = getattr(object, attr)\n",
    "        # Ignore callable methods. Allows other things like int, string etc.\n",
    "        if callable(attr_value):\n",
    "            print(f'{attr:<30} type = {str(type(attr_value)): <20}  value = {str(attr_value)}  ' )\n",
    "\n",
    "def pinf(*variable_names, indent = False):\n",
    "    \"\"\"\n",
    "        Given variable names, print its\n",
    "        - name, type, length (if applicable), value\n",
    "\n",
    "    \"\"\"\n",
    "    for variable_name in variable_names:\n",
    "        # Print name and type\n",
    "        if indent:\n",
    "            print(f'--- {variable_name: <20} type = {str(type(eval(variable_name))):<35}', end=\"\")\n",
    "        else:\n",
    "            print(f'--- {variable_name} type = {str(type(eval(variable_name)))}', end=\"\")\n",
    "        # Print length\n",
    "        if hasattr(eval(variable_name), '__len__'):\n",
    "            if indent:\n",
    "                print(f'     len = {str(len(eval(variable_name))):<8}', end=\"\")\n",
    "            else:\n",
    "                print(f'     len = {str(len(eval(variable_name)))}', end=\"\")\n",
    "        # Print value\n",
    "        print(f'     value = {eval(variable_name)}')"
   ]
  },
  {
   "cell_type": "code",
   "execution_count": 8,
   "metadata": {},
   "outputs": [],
   "source": [
    "module_name = ['_2024_02_24__11_28_monitoring_hr_different_plotting_libs', '_2024_02_24__activities'][1]\n",
    "module = importlib.import_module(\"pages.\" + module_name)\n",
    "#module.page()"
   ]
  },
  {
   "cell_type": "code",
   "execution_count": 9,
   "metadata": {},
   "outputs": [
    {
     "name": "stdout",
     "output_type": "stream",
     "text": [
      "root path db in get_column_info_of_specific_table: d:\\OneDrive\\7Temporary\\Coding\\2024_02_20_Garmin\\data\n",
      "Loaded activity_records from garmin_activities.db. Shape: (4139, 12). \n"
     ]
    }
   ],
   "source": [
    "activity_id_selected = 14057922527\n",
    "df_specific_activity = load_df('garmin_activities.db', 'activity_records', root_path_db=os.path.join(os.getcwd(), 'data'),\n",
    "    sql_selected_columns=\"*\",\n",
    "    sql_condition=f\"activity_id={activity_id_selected}\",)"
   ]
  },
  {
   "cell_type": "code",
   "execution_count": 21,
   "metadata": {},
   "outputs": [
    {
     "data": {
      "text/html": [
       "<div>\n",
       "<style scoped>\n",
       "    .dataframe tbody tr th:only-of-type {\n",
       "        vertical-align: middle;\n",
       "    }\n",
       "\n",
       "    .dataframe tbody tr th {\n",
       "        vertical-align: top;\n",
       "    }\n",
       "\n",
       "    .dataframe thead th {\n",
       "        text-align: right;\n",
       "    }\n",
       "</style>\n",
       "<table border=\"1\" class=\"dataframe\">\n",
       "  <thead>\n",
       "    <tr style=\"text-align: right;\">\n",
       "      <th></th>\n",
       "      <th>activity_id</th>\n",
       "      <th>record</th>\n",
       "      <th>timestamp</th>\n",
       "      <th>position_lat</th>\n",
       "      <th>position_long</th>\n",
       "      <th>distance</th>\n",
       "      <th>cadence</th>\n",
       "      <th>altitude</th>\n",
       "      <th>hr</th>\n",
       "      <th>rr</th>\n",
       "      <th>speed</th>\n",
       "      <th>temperature</th>\n",
       "      <th>pace</th>\n",
       "    </tr>\n",
       "  </thead>\n",
       "  <tbody>\n",
       "    <tr>\n",
       "      <th>0</th>\n",
       "      <td>14057922527</td>\n",
       "      <td>0.0</td>\n",
       "      <td>2024-02-20 18:24:47</td>\n",
       "      <td>47.407445</td>\n",
       "      <td>8.511289</td>\n",
       "      <td>0.00275</td>\n",
       "      <td>0.0</td>\n",
       "      <td>547.8</td>\n",
       "      <td>107.0</td>\n",
       "      <td>None</td>\n",
       "      <td>0.0000</td>\n",
       "      <td>None</td>\n",
       "      <td>inf</td>\n",
       "    </tr>\n",
       "    <tr>\n",
       "      <th>1</th>\n",
       "      <td>14057922527</td>\n",
       "      <td>1.0</td>\n",
       "      <td>2024-02-20 18:24:48</td>\n",
       "      <td>47.407428</td>\n",
       "      <td>8.511335</td>\n",
       "      <td>0.00933</td>\n",
       "      <td>0.0</td>\n",
       "      <td>547.8</td>\n",
       "      <td>107.0</td>\n",
       "      <td>None</td>\n",
       "      <td>0.0000</td>\n",
       "      <td>None</td>\n",
       "      <td>inf</td>\n",
       "    </tr>\n",
       "    <tr>\n",
       "      <th>2</th>\n",
       "      <td>14057922527</td>\n",
       "      <td>2.0</td>\n",
       "      <td>2024-02-20 18:24:49</td>\n",
       "      <td>47.407413</td>\n",
       "      <td>8.511335</td>\n",
       "      <td>0.00933</td>\n",
       "      <td>0.0</td>\n",
       "      <td>547.8</td>\n",
       "      <td>110.0</td>\n",
       "      <td>None</td>\n",
       "      <td>0.0000</td>\n",
       "      <td>None</td>\n",
       "      <td>inf</td>\n",
       "    </tr>\n",
       "    <tr>\n",
       "      <th>3</th>\n",
       "      <td>14057922527</td>\n",
       "      <td>3.0</td>\n",
       "      <td>2024-02-20 18:24:50</td>\n",
       "      <td>47.407425</td>\n",
       "      <td>8.511388</td>\n",
       "      <td>0.01304</td>\n",
       "      <td>0.0</td>\n",
       "      <td>548.0</td>\n",
       "      <td>111.0</td>\n",
       "      <td>None</td>\n",
       "      <td>0.0000</td>\n",
       "      <td>None</td>\n",
       "      <td>inf</td>\n",
       "    </tr>\n",
       "    <tr>\n",
       "      <th>4</th>\n",
       "      <td>14057922527</td>\n",
       "      <td>4.0</td>\n",
       "      <td>2024-02-20 18:24:51</td>\n",
       "      <td>47.407432</td>\n",
       "      <td>8.511395</td>\n",
       "      <td>0.01371</td>\n",
       "      <td>0.0</td>\n",
       "      <td>548.0</td>\n",
       "      <td>112.0</td>\n",
       "      <td>None</td>\n",
       "      <td>7.3224</td>\n",
       "      <td>None</td>\n",
       "      <td>8.194035</td>\n",
       "    </tr>\n",
       "  </tbody>\n",
       "</table>\n",
       "</div>"
      ],
      "text/plain": [
       "   activity_id  record           timestamp  position_lat  position_long  \\\n",
       "0  14057922527     0.0 2024-02-20 18:24:47     47.407445       8.511289   \n",
       "1  14057922527     1.0 2024-02-20 18:24:48     47.407428       8.511335   \n",
       "2  14057922527     2.0 2024-02-20 18:24:49     47.407413       8.511335   \n",
       "3  14057922527     3.0 2024-02-20 18:24:50     47.407425       8.511388   \n",
       "4  14057922527     4.0 2024-02-20 18:24:51     47.407432       8.511395   \n",
       "\n",
       "   distance  cadence  altitude     hr    rr   speed temperature      pace  \n",
       "0   0.00275      0.0     547.8  107.0  None  0.0000        None       inf  \n",
       "1   0.00933      0.0     547.8  107.0  None  0.0000        None       inf  \n",
       "2   0.00933      0.0     547.8  110.0  None  0.0000        None       inf  \n",
       "3   0.01304      0.0     548.0  111.0  None  0.0000        None       inf  \n",
       "4   0.01371      0.0     548.0  112.0  None  7.3224        None  8.194035  "
      ]
     },
     "metadata": {},
     "output_type": "display_data"
    },
    {
     "name": "stdout",
     "output_type": "stream",
     "text": [
      "--- df_specific_activity[\"timestamp\"].min() type = <class 'pandas._libs.tslibs.timestamps.Timestamp'>     value = 2024-02-20 18:24:47\n",
      "--- df_specific_activity[\"timestamp\"].max() type = <class 'pandas._libs.tslibs.timestamps.Timestamp'>     value = 2024-02-20 19:40:26\n",
      "--- df_specific_activity[\"timestamp\"].min()<df_specific_activity[\"timestamp\"].max() type = <class 'bool'>     value = True\n",
      "--- a2 type = <class 'datetime.time'>     value = 18:24:47\n"
     ]
    }
   ],
   "source": [
    "df_specific_activity[\"pace\"] = 60 / (df_specific_activity[\"speed\"])\n",
    "\n",
    "display(df_specific_activity.head())\n",
    "#df_specific_activity.info()\n",
    "pinf('df_specific_activity[\"timestamp\"].min()', 'df_specific_activity[\"timestamp\"].max()', 'df_specific_activity[\"timestamp\"].min()<df_specific_activity[\"timestamp\"].max()')\n",
    "a1 = pd.to_datetime(df_specific_activity['timestamp'].min())\n",
    "a2 = df_specific_activity['timestamp'].min().to_pydatetime().time()\n",
    "pinf('a2')"
   ]
  },
  {
   "cell_type": "code",
   "execution_count": 23,
   "metadata": {},
   "outputs": [
    {
     "name": "stdout",
     "output_type": "stream",
     "text": [
      "--- percentile_95 type = <class 'numpy.float64'>     value = 9.926575420587392\n"
     ]
    }
   ],
   "source": [
    "percentile_95 = np.percentile(df_specific_activity[\"pace\"], 95)\n",
    "pinf('percentile_95')"
   ]
  },
  {
   "cell_type": "code",
   "execution_count": 25,
   "metadata": {},
   "outputs": [
    {
     "name": "stdout",
     "output_type": "stream",
     "text": [
      "streamlit\n"
     ]
    }
   ],
   "source": [
    "import plotly.io as pio\n",
    "# Get the default configuration\n",
    "default_config = pio.templates.default\n",
    "\n",
    "# Extract the default width from the configuration\n",
    "print(default_config)"
   ]
  },
  {
   "cell_type": "code",
   "execution_count": 2,
   "metadata": {},
   "outputs": [
    {
     "name": "stderr",
     "output_type": "stream",
     "text": [
      "2024-02-24 23:58:29.753 \n",
      "  \u001b[33m\u001b[1mWarning:\u001b[0m to view this Streamlit app on a browser, run it with the following\n",
      "  command:\n",
      "\n",
      "    streamlit run d:\\OneDrive\\7Temporary\\Coding\\venv_coding_environments\\.venv_2024_02_garmin\\lib\\site-packages\\ipykernel_launcher.py [ARGUMENTS]\n",
      "2024-02-24 23:58:29.753 No runtime found, using MemoryCacheStorageManager\n"
     ]
    },
    {
     "name": "stdout",
     "output_type": "stream",
     "text": [
      "d:\\OneDrive\\7Temporary\\Coding\\2024_02_20_Garmin\\data\n",
      "root path db in get_column_info_of_specific_table: d:\\OneDrive\\7Temporary\\Coding\\2024_02_20_Garmin\\data\n",
      "Loaded monitoring_hr from garmin_monitoring.db. Shape: (173288, 2). \n"
     ]
    }
   ],
   "source": [
    "from pages import _2024_02_24__11_28_monitoring_hr_different_plotting_libs\n",
    "\n",
    "_2024_02_24__11_28_monitoring_hr_different_plotting_libs.page()"
   ]
  },
  {
   "cell_type": "code",
   "execution_count": 1,
   "metadata": {},
   "outputs": [
    {
     "name": "stderr",
     "output_type": "stream",
     "text": [
      "2024-02-24 23:33:51.514 WARNING streamlit.runtime.caching.cache_data_api: No runtime found, using MemoryCacheStorageManager\n"
     ]
    },
    {
     "name": "stdout",
     "output_type": "stream",
     "text": [
      "project_root_folder: d:\\OneDrive\\7Temporary\\Coding\\2024_02_20_Garmin\n"
     ]
    }
   ],
   "source": [
    "from datetime import datetime, timedelta\n",
    "import importlib\n",
    "import os\n",
    "import sqlite3\n",
    "import sys\n",
    "import time\n",
    "\n",
    "import bokeh\n",
    "from matplotlib import pyplot as plt\n",
    "import numpy as np\n",
    "import pandas as pd\n",
    "import plotly.express as px\n",
    "import seaborn as sns\n",
    "import streamlit as st\n",
    "# from ydata_profiling import ProfileReport\n",
    "\n",
    "# Get project root folder\n",
    "project_root_folder = os.getcwd() # r'd:\\OneDrive\\7Temporary\\Coding\\2024_02_20_Garmin'\n",
    "print(f\"project_root_folder: {project_root_folder}\")\n",
    "sys.path.append(project_root_folder)    # project root folder\n",
    "#sys.path.append(os.path.join(project_root_folder, 'streamlit'))    \n",
    "\n",
    "# from streamlit._2024_02_24__11_28_monitoring_hr_different_plotting_libs import page\n",
    "import bcd\n",
    "from bcd import page2"
   ]
  },
  {
   "cell_type": "code",
   "execution_count": 3,
   "metadata": {},
   "outputs": [
    {
     "ename": "NameError",
     "evalue": "name 'importlib' is not defined",
     "output_type": "error",
     "traceback": [
      "\u001b[1;31m---------------------------------------------------------------------------\u001b[0m",
      "\u001b[1;31mNameError\u001b[0m                                 Traceback (most recent call last)",
      "Cell \u001b[1;32mIn[3], line 2\u001b[0m\n\u001b[0;32m      1\u001b[0m module_name \u001b[38;5;241m=\u001b[39m \u001b[38;5;124m'\u001b[39m\u001b[38;5;124m_2024_02_24__11_28_monitoring_hr_different_plotting_libs\u001b[39m\u001b[38;5;124m'\u001b[39m\n\u001b[1;32m----> 2\u001b[0m module \u001b[38;5;241m=\u001b[39m \u001b[43mimportlib\u001b[49m\u001b[38;5;241m.\u001b[39mimport_module(module_name)\n\u001b[0;32m      3\u001b[0m module\u001b[38;5;241m.\u001b[39mpage()\n",
      "\u001b[1;31mNameError\u001b[0m: name 'importlib' is not defined"
     ]
    }
   ],
   "source": [
    "module_name = '_2024_02_24__11_28_monitoring_hr_different_plotting_libs'\n",
    "module = importlib.import_module(module_name)\n",
    "module.page()\n",
    "\n"
   ]
  },
  {
   "cell_type": "code",
   "execution_count": 2,
   "metadata": {},
   "outputs": [
    {
     "name": "stderr",
     "output_type": "stream",
     "text": [
      "2024-02-24 23:47:05.570 \n",
      "  \u001b[33m\u001b[1mWarning:\u001b[0m to view this Streamlit app on a browser, run it with the following\n",
      "  command:\n",
      "\n",
      "    streamlit run d:\\OneDrive\\7Temporary\\Coding\\venv_coding_environments\\.venv_2024_02_garmin\\lib\\site-packages\\ipykernel_launcher.py [ARGUMENTS]\n"
     ]
    },
    {
     "ename": "NameError",
     "evalue": "name 'project_root_folder' is not defined",
     "output_type": "error",
     "traceback": [
      "\u001b[1;31m---------------------------------------------------------------------------\u001b[0m",
      "\u001b[1;31mNameError\u001b[0m                                 Traceback (most recent call last)",
      "Cell \u001b[1;32mIn[2], line 3\u001b[0m\n\u001b[0;32m      1\u001b[0m \u001b[38;5;28;01mfrom\u001b[39;00m \u001b[38;5;21;01mpages\u001b[39;00m \u001b[38;5;28;01mimport\u001b[39;00m _2024_02_24__11_28_monitoring_hr_different_plotting_libs\n\u001b[1;32m----> 3\u001b[0m \u001b[43m_2024_02_24__11_28_monitoring_hr_different_plotting_libs\u001b[49m\u001b[38;5;241;43m.\u001b[39;49m\u001b[43mpage\u001b[49m\u001b[43m(\u001b[49m\u001b[43m)\u001b[49m\n",
      "File \u001b[1;32md:\\OneDrive\\7Temporary\\Coding\\2024_02_20_Garmin\\pages\\_2024_02_24__11_28_monitoring_hr_different_plotting_libs.py:31\u001b[0m, in \u001b[0;36mpage\u001b[1;34m()\u001b[0m\n\u001b[0;32m     28\u001b[0m st\u001b[38;5;241m.\u001b[39mtext(\u001b[38;5;124m\"\u001b[39m\u001b[38;5;124mText\u001b[39m\u001b[38;5;124m\"\u001b[39m)\n\u001b[0;32m     29\u001b[0m st\u001b[38;5;241m.\u001b[39mwrite(\u001b[38;5;124m\"\u001b[39m\u001b[38;5;124mHello World!\u001b[39m\u001b[38;5;124m\"\u001b[39m)\n\u001b[1;32m---> 31\u001b[0m root_path_db \u001b[38;5;241m=\u001b[39m os\u001b[38;5;241m.\u001b[39mpath\u001b[38;5;241m.\u001b[39mjoin(\u001b[43mproject_root_folder\u001b[49m, \u001b[38;5;124m'\u001b[39m\u001b[38;5;124mdata\u001b[39m\u001b[38;5;124m'\u001b[39m)\n\u001b[0;32m     32\u001b[0m \u001b[38;5;28mprint\u001b[39m(root_path_db)\n\u001b[0;32m     33\u001b[0m df_monitoring \u001b[38;5;241m=\u001b[39m load_df(\u001b[38;5;124m'\u001b[39m\u001b[38;5;124mgarmin_monitoring.db\u001b[39m\u001b[38;5;124m'\u001b[39m, \u001b[38;5;124m'\u001b[39m\u001b[38;5;124mmonitoring_hr\u001b[39m\u001b[38;5;124m'\u001b[39m, root_path_db\u001b[38;5;241m=\u001b[39mroot_path_db)\u001b[38;5;241m.\u001b[39mtail(\u001b[38;5;241m1000000\u001b[39m)\n",
      "\u001b[1;31mNameError\u001b[0m: name 'project_root_folder' is not defined"
     ]
    }
   ],
   "source": [
    "from pages import _2024_02_24__11_28_monitoring_hr_different_plotting_libs\n",
    "\n",
    "_2024_02_24__11_28_monitoring_hr_different_plotting_libs.page()"
   ]
  },
  {
   "cell_type": "code",
   "execution_count": 6,
   "metadata": {},
   "outputs": [
    {
     "name": "stdout",
     "output_type": "stream",
     "text": [
      "None\n",
      "['d:\\\\OneDrive\\\\7Temporary\\\\Coding\\\\2024_02_20_Garmin', 'C:\\\\Users\\\\Xiang\\\\AppData\\\\Local\\\\Programs\\\\Python\\\\Python310\\\\python310.zip', 'C:\\\\Users\\\\Xiang\\\\AppData\\\\Local\\\\Programs\\\\Python\\\\Python310\\\\DLLs', 'C:\\\\Users\\\\Xiang\\\\AppData\\\\Local\\\\Programs\\\\Python\\\\Python310\\\\lib', 'C:\\\\Users\\\\Xiang\\\\AppData\\\\Local\\\\Programs\\\\Python\\\\Python310', 'd:\\\\OneDrive\\\\7Temporary\\\\Coding\\\\venv_coding_environments\\\\.venv_2024_02_garmin', '', 'd:\\\\OneDrive\\\\7Temporary\\\\Coding\\\\venv_coding_environments\\\\.venv_2024_02_garmin\\\\lib\\\\site-packages', 'd:\\\\OneDrive\\\\7Temporary\\\\Coding\\\\venv_coding_environments\\\\.venv_2024_02_garmin\\\\lib\\\\site-packages\\\\win32', 'd:\\\\OneDrive\\\\7Temporary\\\\Coding\\\\venv_coding_environments\\\\.venv_2024_02_garmin\\\\lib\\\\site-packages\\\\win32\\\\lib', 'd:\\\\OneDrive\\\\7Temporary\\\\Coding\\\\venv_coding_environments\\\\.venv_2024_02_garmin\\\\lib\\\\site-packages\\\\Pythonwin', 'd:\\\\OneDrive\\\\7Temporary\\\\Coding\\\\2024_02_20_Garmin', 'd:\\\\OneDrive\\\\7Temporary\\\\Coding\\\\2024_02_20_Garmin']\n"
     ]
    }
   ],
   "source": [
    "print(__package__)\n",
    "print(sys.path)"
   ]
  },
  {
   "cell_type": "code",
   "execution_count": null,
   "metadata": {},
   "outputs": [],
   "source": [
    "from "
   ]
  },
  {
   "cell_type": "code",
   "execution_count": 4,
   "metadata": {},
   "outputs": [
    {
     "ename": "ImportError",
     "evalue": "attempted relative import with no known parent package",
     "output_type": "error",
     "traceback": [
      "\u001b[1;31m---------------------------------------------------------------------------\u001b[0m",
      "\u001b[1;31mImportError\u001b[0m                               Traceback (most recent call last)",
      "Cell \u001b[1;32mIn[4], line 1\u001b[0m\n\u001b[1;32m----> 1\u001b[0m \u001b[38;5;28;01mfrom\u001b[39;00m \u001b[38;5;21;01m.\u001b[39;00m\u001b[38;5;21;01mstreamlit\u001b[39;00m \u001b[38;5;28;01mimport\u001b[39;00m abc\n",
      "\u001b[1;31mImportError\u001b[0m: attempted relative import with no known parent package"
     ]
    }
   ],
   "source": [
    "from .streamlit import abc"
   ]
  }
 ],
 "metadata": {
  "kernelspec": {
   "display_name": ".venv_2024_02_garmin",
   "language": "python",
   "name": "python3"
  },
  "language_info": {
   "codemirror_mode": {
    "name": "ipython",
    "version": 3
   },
   "file_extension": ".py",
   "mimetype": "text/x-python",
   "name": "python",
   "nbconvert_exporter": "python",
   "pygments_lexer": "ipython3",
   "version": "3.10.4"
  }
 },
 "nbformat": 4,
 "nbformat_minor": 2
}
