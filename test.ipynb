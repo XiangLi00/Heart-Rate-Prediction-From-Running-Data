{
 "cells": [
  {
   "cell_type": "code",
   "execution_count": 6,
   "metadata": {},
   "outputs": [
    {
     "name": "stdout",
     "output_type": "stream",
     "text": [
      "Project root folder: d:\\OneDrive\\7Temporary\\Coding\\2024_02_20_Garmin\n"
     ]
    }
   ],
   "source": [
    "from datetime import datetime, timedelta\n",
    "import importlib\n",
    "import os\n",
    "import sqlite3\n",
    "import sys\n",
    "import time\n",
    "\n",
    "import bokeh\n",
    "from matplotlib import pyplot as plt\n",
    "import numpy as np\n",
    "import pandas as pd\n",
    "import plotly.express as px\n",
    "import seaborn as sns\n",
    "import streamlit as st\n",
    "# from ydata_profiling import ProfileReport\n",
    "\n",
    "from utils.helper_load_df import load_df, print_column_info_of_all_tables, get_column_info_of_specific_table, generate_report\n",
    "\n",
    "# Append project path to system path\n",
    "print(f\"Project root folder: {os.getcwd()}\")\n",
    "sys.path.append(os.getcwd())  \n",
    "\n"
   ]
  },
  {
   "cell_type": "code",
   "execution_count": 8,
   "metadata": {},
   "outputs": [
    {
     "name": "stdout",
     "output_type": "stream",
     "text": [
      "d:\\OneDrive\\7Temporary\\Coding\\2024_02_20_Garmin\\data\n",
      "root path db in get_column_info_of_specific_table: d:\\OneDrive\\7Temporary\\Coding\\2024_02_20_Garmin\\data\n",
      "Loaded monitoring_hr from garmin_monitoring.db. Shape: (173288, 2). \n"
     ]
    }
   ],
   "source": [
    "module_name = 'pages._2024_02_24__11_28_monitoring_hr_different_plotting_libs'\n",
    "module = importlib.import_module(module_name)\n",
    "module.page()"
   ]
  },
  {
   "cell_type": "code",
   "execution_count": 2,
   "metadata": {},
   "outputs": [
    {
     "name": "stderr",
     "output_type": "stream",
     "text": [
      "2024-02-24 23:58:29.753 \n",
      "  \u001b[33m\u001b[1mWarning:\u001b[0m to view this Streamlit app on a browser, run it with the following\n",
      "  command:\n",
      "\n",
      "    streamlit run d:\\OneDrive\\7Temporary\\Coding\\venv_coding_environments\\.venv_2024_02_garmin\\lib\\site-packages\\ipykernel_launcher.py [ARGUMENTS]\n",
      "2024-02-24 23:58:29.753 No runtime found, using MemoryCacheStorageManager\n"
     ]
    },
    {
     "name": "stdout",
     "output_type": "stream",
     "text": [
      "d:\\OneDrive\\7Temporary\\Coding\\2024_02_20_Garmin\\data\n",
      "root path db in get_column_info_of_specific_table: d:\\OneDrive\\7Temporary\\Coding\\2024_02_20_Garmin\\data\n",
      "Loaded monitoring_hr from garmin_monitoring.db. Shape: (173288, 2). \n"
     ]
    }
   ],
   "source": [
    "from pages import _2024_02_24__11_28_monitoring_hr_different_plotting_libs\n",
    "\n",
    "_2024_02_24__11_28_monitoring_hr_different_plotting_libs.page()"
   ]
  },
  {
   "cell_type": "code",
   "execution_count": 1,
   "metadata": {},
   "outputs": [
    {
     "name": "stderr",
     "output_type": "stream",
     "text": [
      "2024-02-24 23:33:51.514 WARNING streamlit.runtime.caching.cache_data_api: No runtime found, using MemoryCacheStorageManager\n"
     ]
    },
    {
     "name": "stdout",
     "output_type": "stream",
     "text": [
      "project_root_folder: d:\\OneDrive\\7Temporary\\Coding\\2024_02_20_Garmin\n"
     ]
    }
   ],
   "source": [
    "from datetime import datetime, timedelta\n",
    "import importlib\n",
    "import os\n",
    "import sqlite3\n",
    "import sys\n",
    "import time\n",
    "\n",
    "import bokeh\n",
    "from matplotlib import pyplot as plt\n",
    "import numpy as np\n",
    "import pandas as pd\n",
    "import plotly.express as px\n",
    "import seaborn as sns\n",
    "import streamlit as st\n",
    "# from ydata_profiling import ProfileReport\n",
    "\n",
    "# Get project root folder\n",
    "project_root_folder = os.getcwd() # r'd:\\OneDrive\\7Temporary\\Coding\\2024_02_20_Garmin'\n",
    "print(f\"project_root_folder: {project_root_folder}\")\n",
    "sys.path.append(project_root_folder)    # project root folder\n",
    "#sys.path.append(os.path.join(project_root_folder, 'streamlit'))    \n",
    "\n",
    "# from streamlit._2024_02_24__11_28_monitoring_hr_different_plotting_libs import page\n",
    "import bcd\n",
    "from bcd import page2"
   ]
  },
  {
   "cell_type": "code",
   "execution_count": 3,
   "metadata": {},
   "outputs": [
    {
     "ename": "NameError",
     "evalue": "name 'importlib' is not defined",
     "output_type": "error",
     "traceback": [
      "\u001b[1;31m---------------------------------------------------------------------------\u001b[0m",
      "\u001b[1;31mNameError\u001b[0m                                 Traceback (most recent call last)",
      "Cell \u001b[1;32mIn[3], line 2\u001b[0m\n\u001b[0;32m      1\u001b[0m module_name \u001b[38;5;241m=\u001b[39m \u001b[38;5;124m'\u001b[39m\u001b[38;5;124m_2024_02_24__11_28_monitoring_hr_different_plotting_libs\u001b[39m\u001b[38;5;124m'\u001b[39m\n\u001b[1;32m----> 2\u001b[0m module \u001b[38;5;241m=\u001b[39m \u001b[43mimportlib\u001b[49m\u001b[38;5;241m.\u001b[39mimport_module(module_name)\n\u001b[0;32m      3\u001b[0m module\u001b[38;5;241m.\u001b[39mpage()\n",
      "\u001b[1;31mNameError\u001b[0m: name 'importlib' is not defined"
     ]
    }
   ],
   "source": [
    "module_name = '_2024_02_24__11_28_monitoring_hr_different_plotting_libs'\n",
    "module = importlib.import_module(module_name)\n",
    "module.page()\n",
    "\n"
   ]
  },
  {
   "cell_type": "code",
   "execution_count": 2,
   "metadata": {},
   "outputs": [
    {
     "name": "stderr",
     "output_type": "stream",
     "text": [
      "2024-02-24 23:47:05.570 \n",
      "  \u001b[33m\u001b[1mWarning:\u001b[0m to view this Streamlit app on a browser, run it with the following\n",
      "  command:\n",
      "\n",
      "    streamlit run d:\\OneDrive\\7Temporary\\Coding\\venv_coding_environments\\.venv_2024_02_garmin\\lib\\site-packages\\ipykernel_launcher.py [ARGUMENTS]\n"
     ]
    },
    {
     "ename": "NameError",
     "evalue": "name 'project_root_folder' is not defined",
     "output_type": "error",
     "traceback": [
      "\u001b[1;31m---------------------------------------------------------------------------\u001b[0m",
      "\u001b[1;31mNameError\u001b[0m                                 Traceback (most recent call last)",
      "Cell \u001b[1;32mIn[2], line 3\u001b[0m\n\u001b[0;32m      1\u001b[0m \u001b[38;5;28;01mfrom\u001b[39;00m \u001b[38;5;21;01mpages\u001b[39;00m \u001b[38;5;28;01mimport\u001b[39;00m _2024_02_24__11_28_monitoring_hr_different_plotting_libs\n\u001b[1;32m----> 3\u001b[0m \u001b[43m_2024_02_24__11_28_monitoring_hr_different_plotting_libs\u001b[49m\u001b[38;5;241;43m.\u001b[39;49m\u001b[43mpage\u001b[49m\u001b[43m(\u001b[49m\u001b[43m)\u001b[49m\n",
      "File \u001b[1;32md:\\OneDrive\\7Temporary\\Coding\\2024_02_20_Garmin\\pages\\_2024_02_24__11_28_monitoring_hr_different_plotting_libs.py:31\u001b[0m, in \u001b[0;36mpage\u001b[1;34m()\u001b[0m\n\u001b[0;32m     28\u001b[0m st\u001b[38;5;241m.\u001b[39mtext(\u001b[38;5;124m\"\u001b[39m\u001b[38;5;124mText\u001b[39m\u001b[38;5;124m\"\u001b[39m)\n\u001b[0;32m     29\u001b[0m st\u001b[38;5;241m.\u001b[39mwrite(\u001b[38;5;124m\"\u001b[39m\u001b[38;5;124mHello World!\u001b[39m\u001b[38;5;124m\"\u001b[39m)\n\u001b[1;32m---> 31\u001b[0m root_path_db \u001b[38;5;241m=\u001b[39m os\u001b[38;5;241m.\u001b[39mpath\u001b[38;5;241m.\u001b[39mjoin(\u001b[43mproject_root_folder\u001b[49m, \u001b[38;5;124m'\u001b[39m\u001b[38;5;124mdata\u001b[39m\u001b[38;5;124m'\u001b[39m)\n\u001b[0;32m     32\u001b[0m \u001b[38;5;28mprint\u001b[39m(root_path_db)\n\u001b[0;32m     33\u001b[0m df_monitoring \u001b[38;5;241m=\u001b[39m load_df(\u001b[38;5;124m'\u001b[39m\u001b[38;5;124mgarmin_monitoring.db\u001b[39m\u001b[38;5;124m'\u001b[39m, \u001b[38;5;124m'\u001b[39m\u001b[38;5;124mmonitoring_hr\u001b[39m\u001b[38;5;124m'\u001b[39m, root_path_db\u001b[38;5;241m=\u001b[39mroot_path_db)\u001b[38;5;241m.\u001b[39mtail(\u001b[38;5;241m1000000\u001b[39m)\n",
      "\u001b[1;31mNameError\u001b[0m: name 'project_root_folder' is not defined"
     ]
    }
   ],
   "source": [
    "from pages import _2024_02_24__11_28_monitoring_hr_different_plotting_libs\n",
    "\n",
    "_2024_02_24__11_28_monitoring_hr_different_plotting_libs.page()"
   ]
  },
  {
   "cell_type": "code",
   "execution_count": 6,
   "metadata": {},
   "outputs": [
    {
     "name": "stdout",
     "output_type": "stream",
     "text": [
      "None\n",
      "['d:\\\\OneDrive\\\\7Temporary\\\\Coding\\\\2024_02_20_Garmin', 'C:\\\\Users\\\\Xiang\\\\AppData\\\\Local\\\\Programs\\\\Python\\\\Python310\\\\python310.zip', 'C:\\\\Users\\\\Xiang\\\\AppData\\\\Local\\\\Programs\\\\Python\\\\Python310\\\\DLLs', 'C:\\\\Users\\\\Xiang\\\\AppData\\\\Local\\\\Programs\\\\Python\\\\Python310\\\\lib', 'C:\\\\Users\\\\Xiang\\\\AppData\\\\Local\\\\Programs\\\\Python\\\\Python310', 'd:\\\\OneDrive\\\\7Temporary\\\\Coding\\\\venv_coding_environments\\\\.venv_2024_02_garmin', '', 'd:\\\\OneDrive\\\\7Temporary\\\\Coding\\\\venv_coding_environments\\\\.venv_2024_02_garmin\\\\lib\\\\site-packages', 'd:\\\\OneDrive\\\\7Temporary\\\\Coding\\\\venv_coding_environments\\\\.venv_2024_02_garmin\\\\lib\\\\site-packages\\\\win32', 'd:\\\\OneDrive\\\\7Temporary\\\\Coding\\\\venv_coding_environments\\\\.venv_2024_02_garmin\\\\lib\\\\site-packages\\\\win32\\\\lib', 'd:\\\\OneDrive\\\\7Temporary\\\\Coding\\\\venv_coding_environments\\\\.venv_2024_02_garmin\\\\lib\\\\site-packages\\\\Pythonwin', 'd:\\\\OneDrive\\\\7Temporary\\\\Coding\\\\2024_02_20_Garmin', 'd:\\\\OneDrive\\\\7Temporary\\\\Coding\\\\2024_02_20_Garmin']\n"
     ]
    }
   ],
   "source": [
    "print(__package__)\n",
    "print(sys.path)"
   ]
  },
  {
   "cell_type": "code",
   "execution_count": null,
   "metadata": {},
   "outputs": [],
   "source": [
    "from "
   ]
  },
  {
   "cell_type": "code",
   "execution_count": 4,
   "metadata": {},
   "outputs": [
    {
     "ename": "ImportError",
     "evalue": "attempted relative import with no known parent package",
     "output_type": "error",
     "traceback": [
      "\u001b[1;31m---------------------------------------------------------------------------\u001b[0m",
      "\u001b[1;31mImportError\u001b[0m                               Traceback (most recent call last)",
      "Cell \u001b[1;32mIn[4], line 1\u001b[0m\n\u001b[1;32m----> 1\u001b[0m \u001b[38;5;28;01mfrom\u001b[39;00m \u001b[38;5;21;01m.\u001b[39;00m\u001b[38;5;21;01mstreamlit\u001b[39;00m \u001b[38;5;28;01mimport\u001b[39;00m abc\n",
      "\u001b[1;31mImportError\u001b[0m: attempted relative import with no known parent package"
     ]
    }
   ],
   "source": [
    "from .streamlit import abc"
   ]
  }
 ],
 "metadata": {
  "kernelspec": {
   "display_name": ".venv_2024_02_garmin",
   "language": "python",
   "name": "python3"
  },
  "language_info": {
   "codemirror_mode": {
    "name": "ipython",
    "version": 3
   },
   "file_extension": ".py",
   "mimetype": "text/x-python",
   "name": "python",
   "nbconvert_exporter": "python",
   "pygments_lexer": "ipython3",
   "version": "3.10.4"
  }
 },
 "nbformat": 4,
 "nbformat_minor": 2
}
