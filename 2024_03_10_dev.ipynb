{
 "cells": [
  {
   "cell_type": "code",
   "execution_count": 1,
   "metadata": {},
   "outputs": [],
   "source": [
    "from datetime import datetime, timedelta\n",
    "import importlib\n",
    "import os\n",
    "import sqlite3\n",
    "import sys\n",
    "import time\n",
    "\n",
    "import bokeh\n",
    "from matplotlib import pyplot as plt\n",
    "import numpy as np\n",
    "import pandas as pd\n",
    "import plotly.express as px\n",
    "import seaborn as sns\n",
    "import streamlit as st\n",
    "# from ydata_profiling import ProfileReport"
   ]
  },
  {
   "cell_type": "code",
   "execution_count": 3,
   "metadata": {},
   "outputs": [],
   "source": [
    "folder_path = \"streamlit_pages\"\n",
    "# Retrieve all .py files in folder\n",
    "file_names_of_streamlit_pages_with_py_extension = os.listdir(folder_path)\n",
    "# Remove extionsion. E.g. now get ['_2024_02_24__11_28_monitoring_hr_different_plotting_libs', '_2024_02_24__activities', '_2024_02_28__weeks_summary']\n",
    "file_names_of_streamlit_pages = [os.path.splitext(filename)[0] for filename in filenames if filename.endswith(\".py\")]\n",
    "\n"
   ]
  },
  {
   "cell_type": "code",
   "execution_count": null,
   "metadata": {},
   "outputs": [],
   "source": [
    "module_name = [\n",
    "    '_2024_02_28__weeks_summary',\n",
    "    '_2024_02_24__11_28_monitoring_hr_different_plotting_libs', \n",
    "    '_2024_02_24__activities'\n",
    "    ][-1]\n",
    "    \n",
    "\n",
    "    st.header(module_name)\n",
    "\n",
    "    # Shows the content of this streamlit page (just by importing it)\n",
    "    module = importlib.import_module(\"streamlit_pages.\" + module_name) # fancy way of writing \"import streamlit_pages._2024_02_28__weeks_summary\""
   ]
  },
  {
   "cell_type": "code",
   "execution_count": 4,
   "metadata": {},
   "outputs": [
    {
     "name": "stdout",
     "output_type": "stream",
     "text": [
      "['_2024_02_24__11_28_monitoring_hr_different_plotting_libs', '_2024_02_24__activities', '_2024_02_28__weeks_summary']\n"
     ]
    }
   ],
   "source": [
    "print(filenames_without_extension)"
   ]
  }
 ],
 "metadata": {
  "kernelspec": {
   "display_name": ".venv_2024_02_garmin",
   "language": "python",
   "name": "python3"
  },
  "language_info": {
   "codemirror_mode": {
    "name": "ipython",
    "version": 3
   },
   "file_extension": ".py",
   "mimetype": "text/x-python",
   "name": "python",
   "nbconvert_exporter": "python",
   "pygments_lexer": "ipython3",
   "version": "3.10.4"
  }
 },
 "nbformat": 4,
 "nbformat_minor": 2
}
